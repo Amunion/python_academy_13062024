{
 "cells": [
  {
   "cell_type": "markdown",
   "metadata": {},
   "source": [
    "# Python akademie\n",
    "\n",
    "---\n",
    "\n",
    "<br>\n",
    "\n",
    "## Obsah lekce\n",
    "\n",
    "---"
   ]
  },
  {
   "cell_type": "markdown",
   "metadata": {},
   "source": [
    "1. [Prezentace](https://docs.google.com/presentation/d/1NuHm48fFUZUtDmA4_iiRh6gbMiF0nagpBwycan-aY6g/edit?usp=sharing),\n",
    "2. [Python, obecný úvod](#Python,-obecný-úvod),\n",
    "3. [Python, pracovní prostředí](#Python,-pracovní-prostředí),\n",
    "4. [První krůčky](#První-krůčky),\n",
    "5. [Číselné hodnoty](#Číselné-hodnoty),\n",
    "6. [Textové hodnoty](#Textové-hodnoty),\n",
    "7. [Proměnné, odkazy](#Proměnná-v-Pythonu),\n",
    "8. [Sekvence](#Sekvence-list,-tuple),\n",
    "9. [Zabudované funkce](#Úvod-do-funkcí),\n",
    "10. [Domácí úkol](#Domácí-úkol).\n",
    "\n",
    "---"
   ]
  },
  {
   "cell_type": "markdown",
   "metadata": {},
   "source": [
    "<br>\n",
    "\n",
    "## Python, obecný úvod\n",
    "\n",
    "\n",
    "### Co je to **programování**?\n",
    "\n",
    "---\n",
    "\n",
    "Programování, obecně, je postup, kdy se člověk snaží předepsat (obecně vysvětlit) úkol počítači."
   ]
  },
  {
   "cell_type": "markdown",
   "metadata": {},
   "source": [
    "<br>\n",
    "\n",
    "### Co je to **programovací jazyk**?\n",
    "\n",
    "---\n",
    "\n",
    "\n",
    "\n",
    "**Jazyk lidí** a **počítačů** je odlišný.\n",
    "\n",
    "Proto je potřeba zavést nějaký **společný jazyk**, aby se obě strany domluvily.\n",
    "\n",
    "\n",
    "Tímto společným jazykem je právě **programovací jazyk**.\n",
    "\n",
    "<img src=\"https://i.imgur.com/ZTIUUPM.png\" title=\"source: imgur.com\" width=\"700\" style=\"margin-left:auto; margin-right:auto\" />\n",
    "\n",
    "\n",
    "<br>"
   ]
  },
  {
   "cell_type": "markdown",
   "metadata": {},
   "source": [
    "### Proč se učit **Python**?\n",
    "\n",
    "---\n",
    "Některé programovací jazyky, jako je *Python*, jsou pro člověka **snadněji pochopitelné** (syntaxe čitelnější, lidštější).\n",
    "\n",
    "#### **Python**:"
   ]
  },
  {
   "cell_type": "code",
   "execution_count": null,
   "metadata": {},
   "outputs": [],
   "source": [
    "print(\"Hello world!\")"
   ]
  },
  {
   "cell_type": "markdown",
   "metadata": {},
   "source": [
    "<br>\n",
    "\n",
    "#### **C**:"
   ]
  },
  {
   "cell_type": "code",
   "execution_count": null,
   "metadata": {},
   "outputs": [],
   "source": [
    "#include <stdio.h>\n",
    "\n",
    "int main(void) {\n",
    "  printf(\"Hello World\\n\");\n",
    "  return 0;\n",
    "} \n",
    "# => 'Hello World'"
   ]
  },
  {
   "cell_type": "markdown",
   "metadata": {},
   "source": [
    "<br>\n",
    "\n",
    "#### **Javascript**:"
   ]
  },
  {
   "cell_type": "code",
   "execution_count": null,
   "metadata": {},
   "outputs": [],
   "source": [
    "const say_hello = (name) => {\n",
    "  console.log(`Hello, ${name}`);  // template string\n",
    "}\n",
    "\n",
    "say_hello('Matouš')\n",
    "# => 'Hello, Matouš'"
   ]
  },
  {
   "cell_type": "markdown",
   "metadata": {},
   "source": [
    "Python mj. patří k tzv. *vysokoúrovňové programovací jazyky*.\n",
    "\n",
    "Ty jsou sice **vzdálenější k řeči počítačů**, za to jsou **čitelnější pro člověka**.\n",
    "\n",
    "\n",
    "<img src=\"https://i.imgur.com/2cGt5AP.png\" width=\"1500\" style=\"margin-left:auto; margin-right:auto\">\n",
    "\n",
    "Druhou skupinou programovacích jazyků jsou *nízkoúrovňové programovací jazyky* (mají blíže k jedničkám a nulám).\n",
    "\n",
    "<br>"
   ]
  },
  {
   "cell_type": "markdown",
   "metadata": {},
   "source": [
    "Např. jazyky jako **C** nebo **Assembly**, jsou naopak náročnější na **čtení a pochopení**.\n",
    "\n",
    "Proto nejsou zcela vhodné pro úplné **začátky v programování**."
   ]
  },
  {
   "cell_type": "markdown",
   "metadata": {},
   "source": [
    "#### **Demo**: [Stackoverflow comp.](https://insights.stackoverflow.com/survey/2021#most-loved-dreaded-and-wanted-language-want) 👀"
   ]
  },
  {
   "cell_type": "markdown",
   "metadata": {},
   "source": [
    "<br>\n",
    "\n",
    "## Python, pracovní prostředí\n",
    "\n",
    "\n",
    "### Instalace\n",
    "\n",
    "---\n",
    "\n",
    "Na [tomto odkaze](https://www.python.org/downloads/) si vybereš verzi podle tvého operačního systému.\n",
    "\n",
    "<br>\n",
    "\n",
    "Opatrně, není *Python* jako *Python*.\n",
    "\n",
    "Některé operační systémy (Linux, MacOS) mají velmi často **předem nainstalovaný Python se starší verzí (<2.7)**.\n",
    "\n",
    "Díky těmto, dnes již [oficiálně neudržovaným verzím](https://www.python.org/downloads/release/python-2718/) , totiž běží některé původní procesy.\n",
    "\n",
    "<br>\n",
    "\n",
    "Ty budeš pracovat s verzemi **Pythonu 3.8+**, abychom si společně mohli ukázat všechny funkce a procesy, které ve starších verzích nefungovaly.\n",
    "\n",
    "<br>"
   ]
  },
  {
   "cell_type": "markdown",
   "metadata": {},
   "source": [
    "### Instalace, video\n",
    "\n",
    "---"
   ]
  },
  {
   "cell_type": "code",
   "execution_count": null,
   "metadata": {},
   "outputs": [],
   "source": [
    "from IPython.display import YouTubeVideo\n",
    "YouTubeVideo('nzc8lCpWJhk', width=700, height=500)"
   ]
  },
  {
   "cell_type": "markdown",
   "metadata": {},
   "source": [
    "\n",
    "### Spuštění, kontrola\n",
    "\n",
    "---\n",
    "\n",
    "V **terminálu** / **příkazovém řádku** napíšeš:\n",
    "```\n",
    "python --version\n",
    "```\n",
    "\n",
    "<br>\n",
    "\n",
    "Žádoucí výstup:\n",
    "```\n",
    "Python 3.8.XX\n",
    "```\n",
    "\n",
    "<br>\n",
    "\n",
    "#### **Demo**: *příkazový řádek*  👀\n",
    "\n",
    "<br>"
   ]
  },
  {
   "cell_type": "markdown",
   "metadata": {},
   "source": [
    "<img src=\"https://external-content.duckduckgo.com/iu/?u=https%3A%2F%2Ftse4.mm.bing.net%2Fth%3Fid%3DOIP.3RX0BJUjo1iEcyFBi59JWQHaHa%26pid%3DApi&f=1\" width=\"300\" style=\"margin-left:auto; margin-right:auto\" />\n",
    "\n",
    "### Pracovní prostředí\n",
    "\n",
    "---\n",
    "\n",
    "Čtyři typy prostředí na úvod:\n",
    "1. **Interpret** Pythonu, pro jednoduchá ohlášení, debugování, ověřování syntaxe,\n",
    "2. **Editor** Pythonu, více ohlášení, delší i souvislejší zápis, jednoduchá rozšíření,\n",
    "3. **IDE**, plnohodnotné prostředí (vcs, debugování, testování, DB viewer, posílání requestů),\n",
    "4. **Notebook** Jupyter, není stavěný na vývoj, spíše demonstrativní prvky.\n",
    "\n",
    "<br>\n",
    "\n",
    "#### **Demo**: *pracovní prostředí*  👀"
   ]
  },
  {
   "cell_type": "markdown",
   "metadata": {},
   "source": [
    "<img src=\"https://external-content.duckduckgo.com/iu/?u=https%3A%2F%2Ftse3.mm.bing.net%2Fth%3Fid%3DOIP.Xa4yjARXvRP3kQrezRoEKQHaEY%26pid%3DApi&f=1ipt=63f6a8a4954e1e0e99a260779ba2e4a5e6857b842334d5e7fc29c57abaf6cc1e&ipo=images\" width=\"500\" style=\"margin-left:auto; margin-right:auto\" />"
   ]
  },
  {
   "cell_type": "markdown",
   "metadata": {},
   "source": [
    "## První krůčky\n",
    "\n",
    "---\n",
    "\n",
    "Pro naučení jakéhokoliv **programovacího jazyka**, si potřebuješ osvojit znalosti z tzv. **tří teoretických pilířů**.\n",
    "\n",
    "<br>\n",
    "\n",
    "Na těchto pilířích stojí téměř všechny programovací jazyky:\n",
    "1. **Syntaxe** (funkce, podmínky, smyčky, aj.)\n",
    "2. **Datové typy** (čísla, sekvence, aj.)\n",
    "3. **Knihovny** (decimal, aj.)\n",
    "\n",
    "<br>"
   ]
  },
  {
   "cell_type": "markdown",
   "metadata": {},
   "source": [
    "### Zápis v notebooku\n",
    "---"
   ]
  },
  {
   "cell_type": "code",
   "execution_count": null,
   "metadata": {},
   "outputs": [],
   "source": [
    "print(111 + 99)   # ANO!"
   ]
  },
  {
   "cell_type": "code",
   "execution_count": null,
   "metadata": {},
   "outputs": [],
   "source": [
    "print(111+99)     # ..tady vypisu 210"
   ]
  },
  {
   "cell_type": "code",
   "execution_count": null,
   "metadata": {},
   "outputs": [],
   "source": [
    "print(111+99)     # NE!"
   ]
  },
  {
   "cell_type": "code",
   "execution_count": null,
   "metadata": {},
   "outputs": [],
   "source": [
    "111 + 99"
   ]
  },
  {
   "cell_type": "markdown",
   "metadata": {},
   "source": [
    "**Jednořádkové komentáře** ti pomohou vytvářet poznámky."
   ]
  },
  {
   "cell_type": "markdown",
   "metadata": {},
   "source": [
    "### Zápis v editoru\n",
    "---\n",
    "\n",
    "Pokud zapomeneš doplnit funkci `print`, potom ohlášení proběhne, ale neuvidíš výsledek."
   ]
  },
  {
   "cell_type": "code",
   "execution_count": null,
   "metadata": {},
   "outputs": [],
   "source": [
    "print(111 + 99)"
   ]
  },
  {
   "cell_type": "markdown",
   "metadata": {},
   "source": [
    "#### **Demo**: *zápis, editor*  👀"
   ]
  },
  {
   "cell_type": "markdown",
   "metadata": {},
   "source": [
    "<br>\n",
    "\n",
    "## Číselné hodnoty\n",
    "\n",
    "---\n",
    "\n",
    "Mezi dva základní **datové typy**, které pracují s čísly Python rozděluje:\n",
    "1. **Celá čísla**, tedy *integer* (`int`),\n",
    "2. **desetinná čísla**, tedy *float* (`float`).\n",
    "\n",
    "<br>"
   ]
  },
  {
   "cell_type": "markdown",
   "metadata": {},
   "source": [
    "### Běžné aritmetické operace"
   ]
  },
  {
   "cell_type": "code",
   "execution_count": null,
   "metadata": {},
   "outputs": [],
   "source": [
    "print(2 + 2)\n",
    "print(10 - 6)\n",
    "print(2 * 2)\n",
    "print(56 / 13)"
   ]
  },
  {
   "cell_type": "markdown",
   "metadata": {},
   "source": [
    "<br>\n",
    "\n",
    "### Méně známé ar. operace"
   ]
  },
  {
   "cell_type": "code",
   "execution_count": null,
   "metadata": {},
   "outputs": [],
   "source": [
    "print(10 / 3)"
   ]
  },
  {
   "cell_type": "code",
   "execution_count": null,
   "metadata": {},
   "outputs": [],
   "source": [
    "print(10 // 3)"
   ]
  },
  {
   "cell_type": "code",
   "execution_count": null,
   "metadata": {},
   "outputs": [],
   "source": [
    "print(10 // 4)"
   ]
  },
  {
   "cell_type": "code",
   "execution_count": null,
   "metadata": {},
   "outputs": [],
   "source": [
    "print(10 % 3)"
   ]
  },
  {
   "cell_type": "code",
   "execution_count": null,
   "metadata": {},
   "outputs": [],
   "source": [
    "print(11 % 3)"
   ]
  },
  {
   "cell_type": "code",
   "execution_count": null,
   "metadata": {},
   "outputs": [],
   "source": [
    "print(2 ** 2)  # sec.power\n",
    "print(2 ** 5)"
   ]
  },
  {
   "cell_type": "markdown",
   "metadata": {},
   "source": [
    "<br>\n",
    "\n",
    "### 🧠 CVIČENÍ 1 🧠, číselné datové typy\n",
    "\n",
    "---\n",
    "\n",
    "Doplň, tak ať výstup odpovídá hodnotě v komentáři:"
   ]
  },
  {
   "cell_type": "code",
   "execution_count": null,
   "metadata": {},
   "outputs": [],
   "source": [
    "print(10 _ 10)   #  = 100\n",
    "print(9 _ 1)     #  = 8\n",
    "print(121 _ 3)   #  = 40.333\n",
    "print(2 __ 5)    #  = 32\n",
    "print(17 _ 15)   #  = 2\n",
    "print(56 _ 13)   #  = 4.3076\n",
    "print(8 _ 8)     #  = 64"
   ]
  },
  {
   "cell_type": "markdown",
   "metadata": {},
   "source": [
    "<details>\n",
    "    <summary>▶️ Řešení</summary>\n",
    "    \n",
    "```python\n",
    "print(10 * 10)   #  = 100\n",
    "print(9 - 1)     #  = 8\n",
    "print(121 / 3)  #  = 11.0\n",
    "print(2 ** 5)    #  = 32\n",
    "print(17 % 15)   #  = 2\n",
    "print(56 // 13)  #  = 4\n",
    "print(8 + 8.1)   #  = 16.1\n",
    "```\n",
    "\n",
    "</details>"
   ]
  },
  {
   "cell_type": "markdown",
   "metadata": {},
   "source": [
    "<br>\n",
    "\n",
    "### Potíž s typem float"
   ]
  },
  {
   "cell_type": "code",
   "execution_count": null,
   "metadata": {},
   "outputs": [],
   "source": [
    "print(0.1 + 0.2)  # .2 + .1 --> 0.3"
   ]
  },
  {
   "cell_type": "markdown",
   "metadata": {},
   "source": [
    "Občas se při práci s **desetinnými čísly** setkáš s fenoménem známým jako **plovoucí řádová čárka**.\n",
    "\n",
    "Ten je způsobený tím, že některá desetinná čísla nemají odpovídající **binární tvar**. Proto jsou použity přibližné hodnoty.\n",
    "\n",
    "<br>\n",
    "\n",
    "Pro *přesnější práci* s desetinnými čísly vyzkoušej knihovnu **decimal**:"
   ]
  },
  {
   "cell_type": "code",
   "execution_count": null,
   "metadata": {},
   "outputs": [],
   "source": [
    "# potřeba umět pracovat s knihovnami\n",
    "import decimal"
   ]
  },
  {
   "cell_type": "code",
   "execution_count": null,
   "metadata": {},
   "outputs": [],
   "source": [
    "decimal.getcontext().prec = 5\n",
    "print(decimal.Decimal(0.1) / decimal.Decimal(0.3))"
   ]
  },
  {
   "cell_type": "markdown",
   "metadata": {},
   "source": [
    "<br>\n",
    "\n",
    "### Hierarchie matematických operátorů\n",
    "\n",
    "---\n",
    "\n",
    "Dávej pozor **na pořadí**, ve kterém interpret počítá s různými operátory."
   ]
  },
  {
   "cell_type": "code",
   "execution_count": null,
   "metadata": {},
   "outputs": [],
   "source": [
    "print(2 + 3 * 2)"
   ]
  },
  {
   "cell_type": "code",
   "execution_count": null,
   "metadata": {},
   "outputs": [],
   "source": [
    "print((2 + 3) * 2)  # nejprve sčítání"
   ]
  },
  {
   "cell_type": "markdown",
   "metadata": {},
   "source": [
    "\n",
    "| Pořadí | Operátor | Proces |\n",
    "|:-:|:-:|:-|\n",
    "| 1. | `()` | závorky |\n",
    "| 2. | `**` | umocňování |\n",
    "| 3. | `*` | násobení |\n",
    "| 4. | `/` | dělení |\n",
    "| 5. | `+` | sčítání |\n",
    "| 6. | `-` | odčítaní |"
   ]
  },
  {
   "cell_type": "markdown",
   "metadata": {},
   "source": [
    "### Jak ověřím datový typ\n",
    "\n",
    "---"
   ]
  },
  {
   "cell_type": "code",
   "execution_count": null,
   "metadata": {},
   "outputs": [],
   "source": [
    "print(type(11))"
   ]
  },
  {
   "cell_type": "code",
   "execution_count": null,
   "metadata": {},
   "outputs": [],
   "source": [
    "print(type(10.1))  # float?"
   ]
  },
  {
   "cell_type": "markdown",
   "metadata": {},
   "source": [
    "**Desetinný oddělovač**"
   ]
  },
  {
   "cell_type": "markdown",
   "metadata": {},
   "source": [
    "## Textové hodnoty\n",
    "\n",
    "---\n",
    "\n",
    "**String**, tedy **řetězec** je různě dlouhé uskupení znaků (písmen, čísel, speciálních symbolů).\n",
    "\n",
    "Ukázka datového typu `str`:"
   ]
  },
  {
   "cell_type": "code",
   "execution_count": null,
   "metadata": {},
   "outputs": [],
   "source": [
    "print(\"Ahoj, tady Matous\")"
   ]
  },
  {
   "cell_type": "code",
   "execution_count": null,
   "metadata": {},
   "outputs": [],
   "source": [
    "print(type(\"Ahoj, tady Matous\"))"
   ]
  },
  {
   "cell_type": "markdown",
   "metadata": {},
   "source": [
    "Dále se označuje jako **sekvence**, kterou jakmile jednou vytvoříme nelze změnit (z angl. *immutable*).\n"
   ]
  },
  {
   "cell_type": "markdown",
   "metadata": {},
   "source": [
    "<br>\n",
    "\n",
    "### Jak napsat string\n",
    "\n",
    "---"
   ]
  },
  {
   "cell_type": "code",
   "execution_count": null,
   "metadata": {},
   "outputs": [],
   "source": [
    "print('matous')\n",
    "print(\"matous\")"
   ]
  },
  {
   "cell_type": "code",
   "execution_count": null,
   "metadata": {},
   "outputs": [],
   "source": [
    "print('matous\")"
   ]
  },
  {
   "cell_type": "code",
   "execution_count": null,
   "metadata": {},
   "outputs": [],
   "source": [
    "print('''matous''')  # speciální význam\n",
    "print(\"\"\"matous\"\"\")  # ..."
   ]
  },
  {
   "cell_type": "markdown",
   "metadata": {},
   "source": [
    "<br>\n",
    "\n",
    "### Opatrně na uvozovky"
   ]
  },
  {
   "cell_type": "code",
   "execution_count": null,
   "metadata": {},
   "outputs": [],
   "source": [
    "print(\"matous')"
   ]
  },
  {
   "cell_type": "code",
   "execution_count": null,
   "metadata": {},
   "outputs": [],
   "source": [
    "print('zapisuji apostrof's')"
   ]
  },
  {
   "cell_type": "code",
   "execution_count": null,
   "metadata": {},
   "outputs": [],
   "source": [
    "print(\"zapisuji apostrof's\")"
   ]
  },
  {
   "cell_type": "code",
   "execution_count": null,
   "metadata": {},
   "outputs": [],
   "source": [
    "print('zapisuji apostrof\\'s')  # '\\' -> escape char."
   ]
  },
  {
   "cell_type": "code",
   "execution_count": null,
   "metadata": {},
   "outputs": [],
   "source": [
    "print(\"zapisuji apostrof\\'s\")  # '\\' -> escape char."
   ]
  },
  {
   "cell_type": "markdown",
   "metadata": {},
   "source": [
    "Použití **speciálních symbolů** souvisejících se zpětným lomítkem je víc. Jsou to tzv. **escape characters**. V tabulce níž najdeš soupis těch nejčastějších:\n",
    "\n",
    "<br>\n",
    "\n",
    "| Speciální znak | Význam |\n",
    "| :-: | :-: |\n",
    "| `\\'` | Apostrof |\n",
    "| \\\\ |\tZpětné lomítko |\n",
    "| \\n |\tNový řádek |\n",
    "| \\r |\t*Return carriage* |\n",
    "| \\t |\tTabulátor |\n",
    "| \\b |\t*Backspace* |\n",
    "| \\f |\t*Form feed* |"
   ]
  },
  {
   "cell_type": "code",
   "execution_count": null,
   "metadata": {},
   "outputs": [],
   "source": [
    "print(\"\"\"\n",
    "prvni radek,\n",
    "druhy radek.\n",
    "\"\"\")"
   ]
  },
  {
   "cell_type": "code",
   "execution_count": null,
   "metadata": {},
   "outputs": [],
   "source": [
    "print(\"\"\"prvni radek,\n",
    "druhy radek.\"\"\")"
   ]
  },
  {
   "cell_type": "code",
   "execution_count": null,
   "metadata": {},
   "outputs": [],
   "source": [
    "print('''\n",
    "prvni radek,\n",
    "druhy radek.\n",
    "'''\n",
    ")"
   ]
  },
  {
   "cell_type": "markdown",
   "metadata": {},
   "source": [
    "<br>\n",
    "\n",
    "### Nemíchat různé datové typy\n",
    "\n",
    "---"
   ]
  },
  {
   "cell_type": "code",
   "execution_count": null,
   "metadata": {},
   "outputs": [],
   "source": [
    "print(2 + 2)      # int + int"
   ]
  },
  {
   "cell_type": "code",
   "execution_count": null,
   "metadata": {
    "scrolled": true
   },
   "outputs": [],
   "source": [
    "print(\"2\" + \"2\")  # str + str --> concatenation"
   ]
  },
  {
   "cell_type": "code",
   "execution_count": null,
   "metadata": {},
   "outputs": [],
   "source": [
    "print(type(\"2\" + \"2\"))"
   ]
  },
  {
   "cell_type": "code",
   "execution_count": null,
   "metadata": {},
   "outputs": [],
   "source": [
    "print(2 + \"2\")    # int + str"
   ]
  },
  {
   "cell_type": "markdown",
   "metadata": {},
   "source": [
    "<br>\n",
    "\n",
    "### Změna datového typu za jiný\n",
    "\n",
    "---"
   ]
  },
  {
   "cell_type": "code",
   "execution_count": null,
   "metadata": {},
   "outputs": [],
   "source": [
    "print(type(\"2\"))"
   ]
  },
  {
   "cell_type": "code",
   "execution_count": null,
   "metadata": {},
   "outputs": [],
   "source": [
    "print(type(int(\"2\")))       # řetězení zabudovaných funkcí"
   ]
  },
  {
   "cell_type": "code",
   "execution_count": null,
   "metadata": {},
   "outputs": [],
   "source": [
    "print(type(float(\"2\")))     # ..."
   ]
  },
  {
   "cell_type": "code",
   "execution_count": null,
   "metadata": {},
   "outputs": [],
   "source": [
    "print(type(float(2)))\n",
    "print(type(str(2.11)))"
   ]
  },
  {
   "cell_type": "code",
   "execution_count": null,
   "metadata": {},
   "outputs": [],
   "source": [
    "print(type(str(2.11)))"
   ]
  },
  {
   "cell_type": "code",
   "execution_count": null,
   "metadata": {},
   "outputs": [],
   "source": [
    "print(type(int(\"matous\")))  # ne každou hodnotu lze \"přetypovat\""
   ]
  },
  {
   "cell_type": "code",
   "execution_count": null,
   "metadata": {},
   "outputs": [],
   "source": [
    "print(type(float(\"2 000\")))    # ne každou hodnotu lze \"přetypovat\""
   ]
  },
  {
   "cell_type": "code",
   "execution_count": null,
   "metadata": {},
   "outputs": [],
   "source": [
    "print(1_000_000)            # pomocný oddělovač řádů"
   ]
  },
  {
   "cell_type": "markdown",
   "metadata": {},
   "source": [
    "<br>\n",
    "\n",
    "### Další procesy u stringů\n",
    "\n",
    "---\n",
    "Usnadňují další práci s datovým typem `str`:\n",
    "1. Spojování,\n",
    "2. opakování,\n",
    "3. indexování,\n",
    "4. slicing,\n",
    "5. striding,\n",
    "6. rozšiřující **metody**."
   ]
  },
  {
   "cell_type": "code",
   "execution_count": null,
   "metadata": {},
   "outputs": [],
   "source": [
    "# spojování ~ concatenation, bez třetího stringu\n",
    "print(\"Matouš \" + \"Holinka\")"
   ]
  },
  {
   "cell_type": "code",
   "execution_count": null,
   "metadata": {},
   "outputs": [],
   "source": [
    "# spojování ~ concatenation, s třetím stringem\n",
    "print(\"Matouš\" + \" \" + \"Holinka\")"
   ]
  },
  {
   "cell_type": "code",
   "execution_count": null,
   "metadata": {},
   "outputs": [],
   "source": [
    "# opakování ~ repetition\n",
    "print(\"#\" * 5)"
   ]
  },
  {
   "cell_type": "code",
   "execution_count": null,
   "metadata": {},
   "outputs": [],
   "source": [
    "# ukázka, kde se mi převádění typů hodí\n",
    "print(2000 - int(\"31\"))"
   ]
  },
  {
   "cell_type": "code",
   "execution_count": null,
   "metadata": {},
   "outputs": [],
   "source": [
    "# tabulky, nekonzistence dat\n",
    "print(int(\"1.0000\"))"
   ]
  },
  {
   "cell_type": "code",
   "execution_count": null,
   "metadata": {},
   "outputs": [],
   "source": [
    "# indexování\n",
    "print(\"Matouš\"[0])"
   ]
  },
  {
   "cell_type": "code",
   "execution_count": null,
   "metadata": {},
   "outputs": [],
   "source": [
    "# slicing\n",
    "print(\"matous.holinka@gmail.com\"[0:5])  # <0, 4>"
   ]
  },
  {
   "cell_type": "code",
   "execution_count": null,
   "metadata": {},
   "outputs": [],
   "source": [
    "# striding\n",
    "print(\"Matouš\"[1:4:2])"
   ]
  },
  {
   "cell_type": "code",
   "execution_count": null,
   "metadata": {},
   "outputs": [],
   "source": [
    "# striding\n",
    "print(\"Matouš\"[1::2])"
   ]
  },
  {
   "cell_type": "markdown",
   "metadata": {},
   "source": [
    "### 🧠 CVIČENÍ 2 🧠, stringy\n",
    "\n",
    "---\n",
    "\n",
    "Doplň, tak ať výstup odpovídá hodnotě v komentáři:"
   ]
  },
  {
   "cell_type": "code",
   "execution_count": null,
   "metadata": {},
   "outputs": [],
   "source": [
    "# Najdi a vypiš písmeno \"u\"\n",
    "print(\"Matouš\")"
   ]
  },
  {
   "cell_type": "code",
   "execution_count": null,
   "metadata": {},
   "outputs": [],
   "source": [
    "# Najdi a vypiš poslední znak\n",
    "print(\"Matouš\")"
   ]
  },
  {
   "cell_type": "code",
   "execution_count": null,
   "metadata": {},
   "outputs": [],
   "source": [
    "# Najdi a vypiš \"matous\"\n",
    "print(\"matous.holinka@gmail.com\")"
   ]
  },
  {
   "cell_type": "code",
   "execution_count": null,
   "metadata": {},
   "outputs": [],
   "source": [
    "# Najdi a vypiš všechny sudé číslice (bez nuly)\n",
    "print(\"1234567890\")"
   ]
  },
  {
   "cell_type": "code",
   "execution_count": null,
   "metadata": {},
   "outputs": [],
   "source": [
    "# Spoj a vypiš \"Matouš\" a \"Holinka\" pomocí mezery\n",
    "print(\"Matouš\" + \"Holinka\")"
   ]
  },
  {
   "cell_type": "markdown",
   "metadata": {},
   "source": [
    "<details>\n",
    "    <summary>▶️ Řešení</summary>\n",
    "    \n",
    "```python\n",
    "print(\"Matouš\"[4])\n",
    "print(\"Matouš\"[-1])\n",
    "print(\"matous.holinka@gmail.com\"[:6])\n",
    "print(\"1234567890\"[1:-2:2])\n",
    "print(\"Matouš\" + \" \" + \"Holinka\")\n",
    "```\n",
    "\n",
    "</details>"
   ]
  },
  {
   "cell_type": "markdown",
   "metadata": {},
   "source": [
    "<br>\n",
    "\n",
    "<img src=\"https://external-content.duckduckgo.com/iu/?u=https%3A%2F%2Ftse2.mm.bing.net%2Fth%3Fid%3DOIP.k1p6JyN8Tr1Yya7R6T0YPQHaHl%26pid%3DApi&f=1\" width=\"400\" style=\"margin-left:auto; margin-right:auto\" />\n",
    "\n",
    "\n",
    "\n",
    "## Proměnná v Pythonu\n",
    "\n",
    "---\n",
    "\n",
    "Proměnná je objekt, který slouží ke **uchování hodnoty** pro pozdější použití.\n",
    "\n",
    "Pokud máš tedy hodnoty, které chceš použít **více než jedenkrát**, **ulož je** do proměnné.\n",
    "\n",
    "Pokud chceš hodnotu použít **pouze jednou**, **nemusíš ji ukládat**."
   ]
  },
  {
   "cell_type": "markdown",
   "metadata": {},
   "source": [
    "<br>\n",
    "\n",
    "### Standardní zápis proměnné s hodnotou\n",
    "\n",
    "---\n",
    "\n",
    "Pokud chceš interpretovi oznámit, že chceš hodnotu schovat na později, učiníš tak pomocí symbolu `=`:\n",
    "    "
   ]
  },
  {
   "cell_type": "code",
   "execution_count": null,
   "metadata": {},
   "outputs": [],
   "source": [
    "jmeno = \"Matouš\"\n",
    "vek = 55"
   ]
  },
  {
   "cell_type": "code",
   "execution_count": null,
   "metadata": {},
   "outputs": [],
   "source": [
    "print(jmeno, vek)"
   ]
  },
  {
   "cell_type": "code",
   "execution_count": null,
   "metadata": {},
   "outputs": [],
   "source": [
    "moje_cislo = 11\n",
    "print(moje_cislo)"
   ]
  },
  {
   "cell_type": "code",
   "execution_count": null,
   "metadata": {},
   "outputs": [],
   "source": [
    "moje_cislo = \"11\"\n",
    "print(moje_cislo)"
   ]
  },
  {
   "cell_type": "markdown",
   "metadata": {},
   "source": [
    "Označení `jmeno, vek` jsou jen **jména, označení, identifikátory**, které označí hodnoty `\"Matous\"` a `55` u tebe v paměti."
   ]
  },
  {
   "cell_type": "markdown",
   "metadata": {},
   "source": [
    "### Pravidla pro pojmenování objektů\n",
    "\n",
    "---\n",
    "\n",
    "Jméno proměnné (někdy také odkaz) **může obsahovat** tyto znaky:\n",
    "1. **Písmenné** znaky,\n",
    "2. **Číselné** znaky,\n",
    "3. **Podtržítka**."
   ]
  },
  {
   "cell_type": "code",
   "execution_count": null,
   "metadata": {},
   "outputs": [],
   "source": [
    "jmeno   = \"Matous\"\n",
    "jmeno2  = \"Matous\"\n",
    "jmeno_2 = \"Matous\""
   ]
  },
  {
   "cell_type": "markdown",
   "metadata": {},
   "source": [
    "Existují ovšem znaky, které jméno proměnné **obsahovat nesmí**:\n",
    "1. Jméno proměnné nesmí **začínat číselným znakem**,\n",
    "2. jméno proměnné nesmí **obsahovat speciální znaky** (kromě podtržítka),\n",
    "3. jméno proměnné nesmí **obsahovat mezery**.\n",
    "\n",
    "Obvykle se nedoporučuje začínat jména **odkazů** pomocí **podtržítka** (pokud nevíš proč to dělat, raději to nedělej):"
   ]
  },
  {
   "cell_type": "code",
   "execution_count": null,
   "metadata": {},
   "outputs": [],
   "source": [
    "1jmeno = \"Matous\""
   ]
  },
  {
   "cell_type": "code",
   "execution_count": null,
   "metadata": {},
   "outputs": [],
   "source": [
    "jmeno@ = \"Matouš\""
   ]
  },
  {
   "cell_type": "code",
   "execution_count": null,
   "metadata": {},
   "outputs": [],
   "source": [
    "moje jmeno = \"Matous\""
   ]
  },
  {
   "cell_type": "markdown",
   "metadata": {},
   "source": [
    "<br>\n",
    "\n",
    "Dále nepoužívej pro jméno proměnné žádný **z rezervovaných klíčových slov**:"
   ]
  },
  {
   "cell_type": "code",
   "execution_count": null,
   "metadata": {},
   "outputs": [],
   "source": [
    "# Špatně\n",
    "print = \"Matous\"\n",
    "print(\"M\")"
   ]
  },
  {
   "cell_type": "code",
   "execution_count": null,
   "metadata": {},
   "outputs": [],
   "source": [
    "# Správně\n",
    "name = \"Matous\"\n",
    "print(name)"
   ]
  },
  {
   "cell_type": "markdown",
   "metadata": {},
   "source": [
    "<br>\n",
    "\n",
    "Pokud potřebuješ použít klíčový výraz **jako jméno proměnné**, můžeš použít podtržítko **jako příponu**:"
   ]
  },
  {
   "cell_type": "code",
   "execution_count": null,
   "metadata": {},
   "outputs": [],
   "source": [
    "# Správně\n",
    "str_ = \"Matous\"\n",
    "print(str_)"
   ]
  },
  {
   "cell_type": "markdown",
   "metadata": {},
   "source": [
    "<br>\n",
    "\n",
    "### Forma zápisu\n",
    "\n",
    "---\n",
    "Je jedno, jestli preferuješ tzv. `camelCase` nebo `snake_case`. Důležité je konzistentní používání skrz celý tvůj zápis."
   ]
  },
  {
   "cell_type": "code",
   "execution_count": null,
   "metadata": {},
   "outputs": [],
   "source": [
    "moje_datum_narozeni = ...\n",
    "mojeDatumNarozeni = ..."
   ]
  },
  {
   "cell_type": "markdown",
   "metadata": {},
   "source": [
    "<br>\n",
    "\n",
    "<img src=\"https://external-content.duckduckgo.com/iu/?u=https%3A%2F%2Ftse2.mm.bing.net%2Fth%3Fid%3DOIP.XikDkNKNuZHeuGBWc1KgcQHaGf%26pid%3DApi&f=1\" width=\"400\" style=\"margin-left:auto; margin-right:auto\" />\n",
    "\n",
    "## Sekvence list, tuple\n",
    "\n",
    "---\n",
    "Doposud jsme si ukázali jak pracovat **s jednou hodnotou** (`int`, `float`, `str`).\n",
    "\n",
    "<br>\n",
    "\n",
    "V Pythonu můžeš ale sdružovat **více hodnot** společně. Na jednom místě.\n",
    "\n",
    "<br>\n",
    "\n",
    "Takové hodnoty potom budeme označovat jako tzv. **sekvenční datové typy** (tedy několik údajů oddělených *oddělovačem*).\n",
    "1. `list` (z angl. *list*, česky *seznam*),\n",
    "2. `tuple` (z angl. *tuple*, česky *n-tice*),\n",
    "3. `range` (z angl. *range*, česky *rozsah*) - na něj přijde řada později."
   ]
  },
  {
   "cell_type": "markdown",
   "metadata": {},
   "source": [
    "### List\n",
    "\n",
    "---\n",
    "*List* je první *sekvenční* datový typ. Poznáš jej podle:\n",
    "1. **hranatých závorek**,\n",
    "2. oddělovačem **je čárka**,\n",
    "3. jeho obsah (uvnitř závorek) můžeš po vytvoření **změnit** (přidávat a odebírat).\n",
    "\n",
    "```python\n",
    "[\"Matous\", \"Marek\", \"Lukas\", \"Jan\"]\n",
    "```"
   ]
  },
  {
   "cell_type": "code",
   "execution_count": null,
   "metadata": {},
   "outputs": [],
   "source": [
    "print(type([\"Matous\", \"Marek\", \"Lukas\", \"Jan\"]))"
   ]
  },
  {
   "cell_type": "markdown",
   "metadata": {},
   "source": [
    "### Tuple\n",
    "\n",
    "---\n",
    "*Tuple* je druhý *sekvenční* datový typ. Poznáš jej podle:\n",
    "1. **kulatých závorek** (může být i bez závorek),\n",
    "2. oddělovačem **je čárka**,\n",
    "3. jeho obsah (uvnitř závorek) **nemůžeš** po vytvoření změnit.\n",
    "\n",
    "```python\n",
    "(\"Matous\", \"Marek\", \"Lukas\", \"Jan\")\n",
    "```"
   ]
  },
  {
   "cell_type": "code",
   "execution_count": null,
   "metadata": {},
   "outputs": [],
   "source": [
    "print(type((\"Matous\", \"Marek\", \"Lukas\", \"Jan\")))"
   ]
  },
  {
   "cell_type": "markdown",
   "metadata": {},
   "source": [
    "### Nový list, nový tuple\n",
    "---\n",
    "\n",
    "##### List"
   ]
  },
  {
   "cell_type": "code",
   "execution_count": null,
   "metadata": {},
   "outputs": [],
   "source": [
    "print(type([]))\n",
    "print(type(list()))"
   ]
  },
  {
   "cell_type": "code",
   "execution_count": null,
   "metadata": {},
   "outputs": [],
   "source": [
    "print([1, 2, 3])"
   ]
  },
  {
   "cell_type": "markdown",
   "metadata": {},
   "source": [
    "##### Tuple"
   ]
  },
  {
   "cell_type": "code",
   "execution_count": null,
   "metadata": {},
   "outputs": [],
   "source": [
    "print(type(()))\n",
    "print(type(tuple()))"
   ]
  },
  {
   "cell_type": "code",
   "execution_count": null,
   "metadata": {},
   "outputs": [],
   "source": [
    "print((\"HR\", \"Admin\", \"Development\", \"QA\"))"
   ]
  },
  {
   "cell_type": "markdown",
   "metadata": {},
   "source": [
    "### Jak s listem pracovat\n",
    "\n",
    "---\n",
    "Podobně jako u typu `str`, můžeš s `list` pracovat hned několika způsoby:\n",
    "1. Spojování,\n",
    "2. opakování,\n",
    "3. indexování,\n",
    "4. slicing,\n",
    "5. striding.\n",
    "\n",
    "<br>\n",
    "\n",
    "### Jak pracovat s tuplem\n",
    "\n",
    "---\n",
    "Podobně jako u typu `list`, můžeš s `tuple` pracovat hned několika způsoby:\n",
    "1. Spojování,\n",
    "2. opakování,\n",
    "3. indexování,\n",
    "4. slicing,\n",
    "5. striding."
   ]
  },
  {
   "cell_type": "markdown",
   "metadata": {},
   "source": [
    "<br>\n",
    "\n",
    "### Spojování\n",
    "\n",
    "---"
   ]
  },
  {
   "cell_type": "code",
   "execution_count": null,
   "metadata": {},
   "outputs": [],
   "source": [
    "print(['a', 'b', 'c'])"
   ]
  },
  {
   "cell_type": "code",
   "execution_count": null,
   "metadata": {},
   "outputs": [],
   "source": [
    "# LIST\n",
    "print([\"Matous\", \"Lukas\"] + [\"Petr\", \"Jan\"])"
   ]
  },
  {
   "cell_type": "code",
   "execution_count": null,
   "metadata": {},
   "outputs": [],
   "source": [
    "# TUPLE\n",
    "print((\"a\", \"b\") + (\"c\", \"d\"))"
   ]
  },
  {
   "cell_type": "markdown",
   "metadata": {},
   "source": [
    "<br>\n",
    "\n",
    "### Opakování\n",
    "\n",
    "---"
   ]
  },
  {
   "cell_type": "code",
   "execution_count": null,
   "metadata": {},
   "outputs": [],
   "source": [
    "# LIST\n",
    "print([\"@\"] * 3)"
   ]
  },
  {
   "cell_type": "code",
   "execution_count": null,
   "metadata": {},
   "outputs": [],
   "source": [
    "# TUPLE\n",
    "print((\"@\",) * 3)"
   ]
  },
  {
   "cell_type": "code",
   "execution_count": null,
   "metadata": {},
   "outputs": [],
   "source": [
    "# TUPLE\n",
    "print(type((\"@\",)))"
   ]
  },
  {
   "cell_type": "code",
   "execution_count": null,
   "metadata": {},
   "outputs": [],
   "source": [
    "print((\"@\",) * 10)"
   ]
  },
  {
   "cell_type": "markdown",
   "metadata": {},
   "source": [
    "<br>\n",
    "\n",
    "### 🧠 CVIČENÍ 3 🧠, list & tuple\n",
    "\n",
    "---\n",
    "\n",
    "Doplň, tak ať výstup odpovídá hodnotě v komentáři:"
   ]
  },
  {
   "cell_type": "code",
   "execution_count": null,
   "metadata": {},
   "outputs": [],
   "source": [
    "# najdi a vypiš hodnotu ze sekvence \"Lukas\"\n",
    "print([\"Matous\", \"Lukas\", \"Petr\", \"Jan\"])"
   ]
  },
  {
   "cell_type": "code",
   "execution_count": null,
   "metadata": {},
   "outputs": [],
   "source": [
    "# najdi a vypiš hodnoty ze sekvence \"Lukas\" a \"Petr\"\n",
    "print((\"Matous\", \"Lukas\", \"Petr\", \"Jan\"))"
   ]
  },
  {
   "cell_type": "code",
   "execution_count": null,
   "metadata": {},
   "outputs": [],
   "source": [
    "# najdi a vypiš hodnoty ze sekvence 'Lukas', 'Jan' ..pomocí jedné hranaté závorky\n",
    "print([\"Matous\", \"Lukas\", \"Petr\", \"Jan\"])"
   ]
  },
  {
   "cell_type": "markdown",
   "metadata": {},
   "source": [
    "<details>\n",
    "    <summary>▶️ Řešení</summary>\n",
    "    \n",
    "```python\n",
    "print([\"Matous\", \"Lukas\", \"Petr\", \"Jan\"][1])\n",
    "print((\"Matous\", \"Lukas\", \"Petr\", \"Jan\")[2:4])\n",
    "print([\"Matous\", \"Lukas\", \"Petr\", \"Jan\"][1:4:2])\n",
    "```\n",
    "\n",
    "</details>"
   ]
  },
  {
   "cell_type": "markdown",
   "metadata": {},
   "source": [
    "<br>\n",
    "\n",
    "## Úvod do funkcí\n",
    "---\n",
    "\n",
    "Obecně řečeno Python disponuje dvěma typy funkcí. Tebe budou zajímat:\n",
    "1. **Zabudované funkce** (~*built-in functions*),\n",
    "2. **Uživatelské funkce** (~*user-defined functions*) - ty přijdou na řadu později.\n",
    "\n",
    "<br>\n",
    "\n",
    "Funkce jsou v podstatě **pomocné nástroje**, které ti umožní snazší a efektivnější práci.\n",
    "\n",
    "To, že nesou označení **zabudované** znamená, že je máš k dispozici ihned po instalaci. Tedy v každém souboru (s příponou `.py`), který do budoucna vytvoříš."
   ]
  },
  {
   "cell_type": "markdown",
   "metadata": {},
   "source": [
    "<br>\n",
    "\n",
    "### Použití zabudované funkce\n",
    "\n",
    "---\n",
    "\n",
    "| Jméno funkce | Účel funkce |\n",
    "| :-: | :- |\n",
    "| `type` | Vrací datový typ zadané hodnoty |\n",
    "| `str` | Vrací *string* ze zadané hodnoty |\n",
    "| `list` | Vrací nový objekt, sekvenční datový typ *list* |\n",
    "| `tuple` | Vrací nový objekt, sekvenční datový typ *tuple* |\n",
    "| `help` | Vratí nápovědu k zadanému objektu |\n",
    "| `print` | Vypisuje zadné hodnoty jako výstupy |\n",
    "| `input` | Umožňuje ukládat vstupy od uživatele |\n",
    "\n",
    "<br>\n",
    "\n",
    "Pokud máš se zabudovanými funkcemi nějaké zkušenosti, nebo tě zajímá, které další bys mohl v rámci Pythonu využít, mrkni na [oficiální tabulku](https://docs.python.org/3/library/functions.html) všech zabudovaných funkcí."
   ]
  },
  {
   "cell_type": "code",
   "execution_count": null,
   "metadata": {},
   "outputs": [],
   "source": [
    "help(input)"
   ]
  },
  {
   "cell_type": "markdown",
   "metadata": {},
   "source": [
    "<img src=\"https://external-content.duckduckgo.com/iu/?u=https%3A%2F%2Ftse1.mm.bing.net%2Fth%3Fid%3DOIP.GMJvJ-GG0YS8H5JmHR3CbwHaHm%26pid%3DApi&f=1\" width=\"400\" style=\"margin-left:auto; margin-right:auto\">\n",
    "\n",
    "\n",
    "## Domácí úkol\n",
    "\n",
    "---"
   ]
  },
  {
   "cell_type": "markdown",
   "metadata": {},
   "source": [
    "Představ si situaci, že chceš napsat takový program, který ti umožní rezervovat jízdenky.\n",
    "\n",
    "Samozřejmě nepůjde o žádnou produkční verzi ale **jednoduchý skript** postavený na komunikaci *uživatele* a *interpretu*.\n",
    "\n",
    "<br>\n",
    "\n",
    "Program bude umět:\n",
    "\n",
    "1. **Pozdravit** uživatele,\n",
    "2. **Vypsat** nabídku,\n",
    "3. Dovolit uživateli **zadat vstupní data**,\n",
    "4. **Zpracovat** vstupní data,\n",
    "5. **Vypsat** zpracovaná data."
   ]
  },
  {
   "cell_type": "markdown",
   "metadata": {},
   "source": [
    "### 1/6 Vstupní údaje\n",
    "\n",
    "---"
   ]
  },
  {
   "cell_type": "code",
   "execution_count": null,
   "metadata": {},
   "outputs": [],
   "source": [
    "mesta = [\"Praha\", \"Viden\", \"Olomouc\", \"Svitavy\", \"Zlin\", \"Ostrava\"]\n",
    "ceny = (150, 200, 120, 120, 100, 180)\n",
    "cara = \"=\" * 35\n",
    "nabidka = \"\"\"1 - Praha   | 150\n",
    "2 - Viden   | 200\n",
    "3 - Olomouc | 120\n",
    "4 - Svitavy | 120\n",
    "5 - Zlin    | 100\n",
    "6 - Ostrava | 180\n",
    "\"\"\""
   ]
  },
  {
   "cell_type": "markdown",
   "metadata": {},
   "source": [
    "### 2/6 Pozdrav uživatele\n",
    "\n",
    "---"
   ]
  },
  {
   "cell_type": "markdown",
   "metadata": {},
   "source": [
    "Očekávaný výstup:\n",
    "\n",
    "```\n",
    "VITEJTE U NASI APLIKACE DESTINATIO!\n",
    "===================================\n",
    "```"
   ]
  },
  {
   "cell_type": "code",
   "execution_count": null,
   "metadata": {},
   "outputs": [],
   "source": [
    "# Zapiš pozdrav a odděl jej pomocnou proměnnou"
   ]
  },
  {
   "cell_type": "markdown",
   "metadata": {},
   "source": [
    "<details>\n",
    "  <summary>▶️  Klikni zde pro zobrazení řešení</summary>\n",
    "   \n",
    "```python\n",
    "cara = \"=\" * 35\n",
    "\n",
    "print(\"VITEJTE U NASI APLIKACE DESTINATIO!\")\n",
    "print(cara)\n",
    "```\n",
    "</details>"
   ]
  },
  {
   "cell_type": "markdown",
   "metadata": {},
   "source": [
    "### 3/6 Vypsání nabídky\n",
    "\n",
    "---\n",
    "\n",
    "Očekávaný výstup:\n",
    "\n",
    "```\n",
    "VITEJTE U NASI APLIKACE DESTINATIO!\n",
    "===================================\n",
    "1 - Praha   | 150\n",
    "2 - Viden   | 200\n",
    "3 - Olomouc | 120\n",
    "4 - Svitavy | 120\n",
    "5 - Zlin    | 100\n",
    "6 - Ostrava | 180\n",
    "\n",
    "```"
   ]
  },
  {
   "cell_type": "code",
   "execution_count": null,
   "metadata": {},
   "outputs": [],
   "source": [
    "# Vypiš nabídku cílových destinací a odděl ji pomocnou proměnnou"
   ]
  },
  {
   "cell_type": "markdown",
   "metadata": {},
   "source": [
    "<details>\n",
    "  <summary>▶️  Klikni zde pro zobrazení řešení</summary>\n",
    "   \n",
    "```python\n",
    "cara = \"=\" * 35\n",
    "nabidka = \"\"\"\n",
    "1 - Praha   | 150\n",
    "2 - Viden   | 200\n",
    "3 - Olomouc | 120\n",
    "4 - Svitavy | 120\n",
    "5 - Zlin    | 100\n",
    "6 - Ostrava | 180\n",
    "\"\"\"\n",
    "\n",
    "print(\"VITEJTE U NASI APLIKACE DESTINATIO!\")\n",
    "print(cara)\n",
    "print(nabidka)\n",
    "print(cara)\n",
    "```\n",
    "</details>"
   ]
  },
  {
   "cell_type": "markdown",
   "metadata": {},
   "source": [
    "### 4/6 Zadání vstupních dat od uživatele\n",
    "\n",
    "---\n",
    "\n",
    "Očekávaný výstup:\n",
    "\n",
    "```\n",
    "<predchozi_ukoly>\n",
    "===================================\n",
    "CISLO DESTINACE: 1\n",
    "JMENO: Matous\n",
    "PRIJMENI: Holinka\n",
    "EMAIL: matous@matous.cz\n",
    "===================================\n",
    "```"
   ]
  },
  {
   "cell_type": "code",
   "execution_count": null,
   "metadata": {},
   "outputs": [],
   "source": [
    "# Dovol uživateli zadat 'destinace', 'cele_jmeno', 'email', 'rok_narozeni' a doplň oddělovač"
   ]
  },
  {
   "cell_type": "markdown",
   "metadata": {},
   "source": [
    "**Opatrně!** nezapomeň na to, jaký **datový typ** používáš."
   ]
  },
  {
   "cell_type": "markdown",
   "metadata": {},
   "source": [
    "<details>\n",
    "  <summary>▶️  Klikni zde pro zobrazení řešení</summary>\n",
    "   \n",
    "```python\n",
    "cara = \"=\" * 35\n",
    "nabidka = \"\"\"\n",
    "1 - Praha   | 150\n",
    "2 - Viden   | 200\n",
    "3 - Olomouc | 120\n",
    "4 - Svitavy | 120\n",
    "5 - Zlin    | 100\n",
    "6 - Ostrava | 180\n",
    "\"\"\"\n",
    "\n",
    "print(\"VITEJTE U NASI APLIKACE DESTINATIO!\")\n",
    "print(cara)\n",
    "print(nabidka)\n",
    "print(cara)\n",
    "\n",
    "destinace = input(\"CISLO DESTINACE:\")\n",
    "jmeno = input(\"JMENO:\")\n",
    "prijmeni = input(\"PRIJMENI:\")\n",
    "email = input(\"EMAIL:\")\n",
    "print(cara)\n",
    "```\n",
    "</details>"
   ]
  },
  {
   "cell_type": "markdown",
   "metadata": {},
   "source": [
    "### 5/6 Zpracování dat\n",
    "\n",
    "---\n",
    "\n",
    "Očekávaný výstup:\n",
    "\n",
    "```\n",
    "<predchozi_ukoly>\n",
    "===================================\n",
    "CISLO DESTINACE: 2\n",
    "===================================\n",
    "Viden\n",
    "200\n",
    "===================================\n",
    "```"
   ]
  },
  {
   "cell_type": "code",
   "execution_count": null,
   "metadata": {},
   "outputs": [],
   "source": [
    "# Zkus propojit stávající datový typ \"mesta\" a \"destinace\""
   ]
  },
  {
   "cell_type": "markdown",
   "metadata": {},
   "source": [
    "<details>\n",
    "  <summary>▶️  Klikni zde pro zobrazení řešení</summary>\n",
    "   \n",
    "```python\n",
    "mesta = [\"Praha\", \"Viden\", \"Olomouc\", \"Svitavy\", \"Zlin\", \"Ostrava\"]\n",
    "ceny = (150, 200, 120, 120, 100, 180)\n",
    "cara = \"=\" * 35\n",
    "nabidka = \"\"\"\n",
    "1 - Praha   | 150\n",
    "2 - Viden   | 200\n",
    "3 - Olomouc | 120\n",
    "4 - Svitavy | 120\n",
    "5 - Zlin    | 100\n",
    "6 - Ostrava | 180\n",
    "\"\"\"\n",
    "\n",
    "print(\"VITEJTE U NASI APLIKACE DESTINATIO!\")\n",
    "print(cara)\n",
    "print(nabidka)\n",
    "print(cara)\n",
    "\n",
    "destinace = input(\"CISLO DESTINACE:\")\n",
    "\n",
    "spravna_destinace = mesta[int(destinace) - 1]\n",
    "cena = ceny[int(destinace) - 1]\n",
    "print(cara)\n",
    "```\n",
    "</details>"
   ]
  },
  {
   "cell_type": "markdown",
   "metadata": {},
   "source": [
    "### 6/6 Výpis zpracovaných hodnot\n",
    "\n",
    "---\n",
    "\n",
    "Očekávaný výstup:\n",
    "\n",
    "```\n",
    "VITEJTE U NASI APLIKACE DESTINATIO!\n",
    "===================================\n",
    "1 - Praha   | 150\n",
    "2 - Viden   | 200\n",
    "3 - Olomouc | 120\n",
    "4 - Svitavy | 120\n",
    "5 - Zlin    | 100\n",
    "6 - Ostrava | 180\n",
    "===================================\n",
    "CISLO DESTINACE: 2\n",
    "JMENO: Matous\n",
    "PRIJMENI: Holinka\n",
    "EMAIL: matous@matous.cz\n",
    "===================================\n",
    "DEKUJI, Matous ZA OBJEDNAVKU,\n",
    "CIL. DESTINACE: Viden, CENA JIZDNEHO: 200,\n",
    "NA TVUJ MAIL matous@matous.cz JSME TI POSLALI LISTEK.\n",
    "===================================\n",
    "```"
   ]
  },
  {
   "cell_type": "code",
   "execution_count": null,
   "metadata": {},
   "outputs": [],
   "source": [
    "# Vypiš tyto informace pro objednávajícího uživatele\n",
    "# - Kdo si objednal,\n",
    "# - kam cestuje a za kolik,\n",
    "# - kam mu přijde lístek."
   ]
  },
  {
   "cell_type": "markdown",
   "metadata": {},
   "source": [
    "<details>\n",
    "  <summary>▶️  Klikni zde pro zobrazení řešení</summary>\n",
    "   \n",
    "```python\n",
    "mesta = [\"Praha\", \"Viden\", \"Olomouc\", \"Svitavy\", \"Zlin\", \"Ostrava\"]\n",
    "ceny = (150, 200, 120, 120, 100, 180)\n",
    "cara = \"=\" * 35\n",
    "nabidka = \"\"\"\n",
    "1 - Praha   | 150\n",
    "2 - Viden   | 200\n",
    "3 - Olomouc | 120\n",
    "4 - Svitavy | 120\n",
    "5 - Zlin    | 100\n",
    "6 - Ostrava | 180\n",
    "\"\"\"\n",
    "\n",
    "print(\"VITEJTE U NASI APLIKACE DESTINATIO!\")\n",
    "print(cara)\n",
    "print(nabidka)\n",
    "print(cara)\n",
    "\n",
    "destinace = input(\"CISLO DESTINACE:\")\n",
    "jmeno = input(\"JMENO:\")\n",
    "prijmeni = input(\"PRIJMENI:\")\n",
    "email = input(\"EMAIL:\")\n",
    "print(cara)\n",
    "\n",
    "spravna_destinace = mesta[int(destinace) - 1]\n",
    "cena = ceny[int(destinace) - 1]\n",
    "\n",
    "print(f\"\"\"DEKUJI, {jmeno} ZA OBJEDNAVKU,\n",
    "CIL. DESTINACE: {spravna_destinace}, CENA JIZDNEHO: {cena},\n",
    "NA TVUJ MAIL {email} JSME TI POSLALI LISTEK.\"\"\")\n",
    "```\n",
    "</details>"
   ]
  },
  {
   "cell_type": "markdown",
   "metadata": {},
   "source": [
    "➡️ ➡️ **Formulář pro Tvoje hodnocení** [**první lekce**](https://forms.gle/LCF9RzANTJ6qCTwj9) ⬅️ ⬅️"
   ]
  },
  {
   "cell_type": "markdown",
   "metadata": {},
   "source": [
    "\n",
    "---"
   ]
  }
 ],
 "metadata": {
  "kernelspec": {
   "display_name": "Python 3 (ipykernel)",
   "language": "python",
   "name": "python3"
  },
  "language_info": {
   "codemirror_mode": {
    "name": "ipython",
    "version": 3
   },
   "file_extension": ".py",
   "mimetype": "text/x-python",
   "name": "python",
   "nbconvert_exporter": "python",
   "pygments_lexer": "ipython3",
   "version": "3.8.10"
  }
 },
 "nbformat": 4,
 "nbformat_minor": 4
}
